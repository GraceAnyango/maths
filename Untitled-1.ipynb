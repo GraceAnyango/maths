
Welcome.
1. Register an account
2. Deposit money into an account
3. Withdraw money from an account
4. Check balance in your account
5. Fululiza
6. Exit
Invalid option. Please try again.

Welcome.
1. Register an account
2. Deposit money into an account
3. Withdraw money from an account
4. Check balance in your account
5. Fululiza
6. Exit
Invalid option. Please try again.

Welcome.
1. Register an account
2. Deposit money into an account
3. Withdraw money from an account
4. Check balance in your account
5. Fululiza
6. Exit
Invalid option. Please try again.

Welcome.
1. Register an account
2. Deposit money into an account
3. Withdraw money from an account
4. Check balance in your account
5. Fululiza
6. Exit
Invalid option. Please try again.

Welcome.
1. Register an account
2. Deposit money into an account
3. Withdraw money from an account
4. Check balance in your account
5. Fululiza
6. Exit
