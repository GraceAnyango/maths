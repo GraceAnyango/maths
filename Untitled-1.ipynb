{
 "cells": [
  {
   "cell_type": "markdown",
   "metadata": {},
   "source": [
    "Question:\n",
    "Create a Python program to model a family consisting of a parent and a child. Use the provided Parent and Child classes as the basis for your solution.\n",
    "\n",
    "Requirements:\n",
    "\n",
    "The Parent class should have an attribute for the parent's name and a method greet() to print a greeting message with the parent's name.\n",
    "The Child class should inherit from the Parent class. It should have an additional attribute for the child's age and a method describe() to print the child's name and age.\n",
    "Instantiate a Parent object with the name \"John\" and invoke the greet() method to display the greeting message.\n",
    "Instantiate a Child object with the name \"Alice\" and age 10. Invoke both the greet() and describe() methods to display the greeting message and the child's information."
   ]
  },
  {
   "cell_type": "code",
   "execution_count": 16,
   "metadata": {},
   "outputs": [
    {
     "name": "stdout",
     "output_type": "stream",
     "text": [
      "Hello, I am John\n",
      "Hello, I am Alice\n",
      "Alice is 10 years old\n"
     ]
    }
   ],
   "source": [
    "class Parent:\n",
    "    def __init__(self, name):\n",
    "        self.name = name\n",
    "\n",
    "    def greet(self):\n",
    "        print(\"Hello, I am\", self.name)\n",
    "\n",
    "\n",
    "class Child(Parent):\n",
    "    def __init__(self, name, age):\n",
    "        super().__init__(name)\n",
    "        self.age = age\n",
    "\n",
    "    def describe(self):\n",
    "        print(self.name, \"is\", self.age, \"years old\")\n",
    "\n",
    "\n",
    "# Example usage:\n",
    "parent = Parent(\"John\")\n",
    "parent.greet()  # Output: Hello, I am John\n",
    "\n",
    "child = Child(\"Alice\", 10)\n",
    "child.greet()   # Output: Hello, I am Alice\n",
    "child.describe()  # Output: Alice is 10 years old\n"
   ]
  },
  {
   "cell_type": "code",
   "execution_count": 2,
   "metadata": {},
   "outputs": [
    {
     "name": "stdout",
     "output_type": "stream",
     "text": [
      "Woof!\n",
      "Meow!\n",
      "Quack!\n"
     ]
    }
   ],
   "source": [
    "class Animal:\n",
    "    def speak(self):\n",
    "        raise NotImplementedError(\"Subclass must implement abstract method\")\n",
    "\n",
    "\n",
    "class Dog(Animal):\n",
    "    def speak(self):\n",
    "        return \"Woof!\"\n",
    "\n",
    "\n",
    "class Cat(Animal):\n",
    "    def speak(self):\n",
    "        return \"Meow!\"\n",
    "\n",
    "\n",
    "class Duck(Animal):\n",
    "    def speak(self):\n",
    "        return \"Quack!\"\n",
    "\n",
    "\n",
    "# Function that takes any Animal object and calls its speak method\n",
    "def make_sound(animal):\n",
    "    return animal.speak()\n",
    "\n",
    "\n",
    "# Example usage\n",
    "dog = Dog()\n",
    "print(make_sound(dog))  # Output: Woof!\n",
    "\n",
    "cat = Cat()\n",
    "print(make_sound(cat))  # Output: Meow!\n",
    "\n",
    "duck = Duck()\n",
    "print(make_sound(duck))  # Output: Quack!\n"
   ]
  },
  {
   "cell_type": "markdown",
   "metadata": {},
   "source": [
    "Very simply, polymorphism means you can have two (or more) methods with the same name\n",
    "for different classes. These methods can behave differently, depending on which class\n",
    "they’re applied to."
   ]
  },
  {
   "cell_type": "code",
   "execution_count": 3,
   "metadata": {},
   "outputs": [
    {
     "name": "stdout",
     "output_type": "stream",
     "text": [
      "Triangle area: 7.5\n",
      "Square area: 16\n"
     ]
    }
   ],
   "source": [
    "class Triangle:\n",
    "    def __init__(self, width, height):\n",
    "        self.width = width\n",
    "        self.height = height\n",
    "    \n",
    "    def getArea(self):\n",
    "        area = self.width * self.height / 2.0\n",
    "        return area\n",
    "\n",
    "class Square:\n",
    "    def __init__(self, size):\n",
    "        self.size = size\n",
    "    \n",
    "    def getArea(self):\n",
    "        area = self.size * self.size\n",
    "        return area\n",
    "\n",
    "# Example usage:\n",
    "triangle = Triangle(5, 3)\n",
    "print(\"Triangle area:\", triangle.getArea())  # Output: Triangle area: 7.5\n",
    "\n",
    "square = Square(4)\n",
    "print(\"Square area:\", square.getArea())  # Output: Square area: 16\n"
   ]
  },
  {
   "cell_type": "code",
   "execution_count": 4,
   "metadata": {},
   "outputs": [],
   "source": [
    "myTriangle = Triangle(4, 5)\n",
    "mySquare = Square(7)"
   ]
  },
  {
   "cell_type": "code",
   "execution_count": 8,
   "metadata": {},
   "outputs": [
    {
     "data": {
      "text/plain": [
       "49"
      ]
     },
     "execution_count": 8,
     "metadata": {},
     "output_type": "execute_result"
    }
   ],
   "source": [
    "myTriangle.getArea()\n",
    "mySquare.getArea()"
   ]
  },
  {
   "cell_type": "markdown",
   "metadata": {},
   "source": [
    "Suppose you're tasked with creating a simple banking system with Python classes. Design classes for BankAccount and Transaction. The BankAccount class should have attributes for account number, balance, and account holder's name, along with methods for deposit, withdraw, and displaying the account information. The Transaction class should represent a single transaction, with attributes for transaction type (e.g., deposit or withdrawal), amount, and transaction timestamp."
   ]
  },
  {
   "cell_type": "code",
   "execution_count": 11,
   "metadata": {},
   "outputs": [
    {
     "name": "stdout",
     "output_type": "stream",
     "text": [
      "Deposited $500\n",
      "Withdrew $200\n",
      "Account Number: 123456789\n",
      "Account Holder: Alice\n",
      "Balance: $1300\n",
      "Transaction History:\n",
      "- deposit: $500 at 2024-02-12 20:12:00.194955\n",
      "- withdrawal: $200 at 2024-02-12 20:12:00.195266\n"
     ]
    }
   ],
   "source": [
    "from datetime import datetime\n",
    "\n",
    "class Transaction:\n",
    "    def __init__(self, transaction_type, amount):\n",
    "        self.transaction_type = transaction_type\n",
    "        self.amount = amount\n",
    "        self.timestamp = datetime.now()\n",
    "\n",
    "class BankAccount:\n",
    "    def __init__(self, account_number, account_holder, initial_balance=0):\n",
    "        self.account_number = account_number\n",
    "        self.account_holder = account_holder\n",
    "        self.balance = initial_balance\n",
    "        self.transactions = []\n",
    "\n",
    "    def deposit(self, amount):\n",
    "        if amount > 0:\n",
    "            self.balance += amount\n",
    "            self.transactions.append(Transaction(\"deposit\", amount))\n",
    "            print(f\"Deposited ${amount}\")\n",
    "        else:\n",
    "            print(\"Invalid deposit amount\")\n",
    "\n",
    "    def withdraw(self, amount):\n",
    "        if 0 < amount <= self.balance:\n",
    "            self.balance -= amount\n",
    "            self.transactions.append(Transaction(\"withdrawal\", amount))\n",
    "            print(f\"Withdrew ${amount}\")\n",
    "        else:\n",
    "            print(\"Invalid withdrawal amount or insufficient funds\")\n",
    "\n",
    "    def display_info(self):\n",
    "        print(f\"Account Number: {self.account_number}\")\n",
    "        print(f\"Account Holder: {self.account_holder}\")\n",
    "        print(f\"Balance: ${self.balance}\")\n",
    "        print(\"Transaction History:\")\n",
    "        for transaction in self.transactions:\n",
    "            print(f\"- {transaction.transaction_type}: ${transaction.amount} at {transaction.timestamp}\")\n",
    "\n",
    "\n",
    "# Example usage\n",
    "account = BankAccount(\"123456789\", \"Alice\", initial_balance=1000)\n",
    "account.deposit(500)\n",
    "account.withdraw(200)\n",
    "account.display_info()\n"
   ]
  },
  {
   "cell_type": "markdown",
   "metadata": {},
   "source": [
    "Suppose you're creating a program to manage shapes. Design classes for Rectangle and Circle. The Rectangle class should have attributes for width and height, along with a method to calculate the area. The Circle class should have an attribute for the radius and a method to calculate the area."
   ]
  },
  {
   "cell_type": "code",
   "execution_count": 12,
   "metadata": {},
   "outputs": [
    {
     "name": "stdout",
     "output_type": "stream",
     "text": [
      "Rectangle area: 15\n",
      "Circle area: 50.26548245743669\n"
     ]
    }
   ],
   "source": [
    "import math\n",
    "\n",
    "class Rectangle:\n",
    "    def __init__(self, width, height):\n",
    "        self.width = width\n",
    "        self.height = height\n",
    "    \n",
    "    def calculate_area(self):\n",
    "        return self.width * self.height\n",
    "\n",
    "class Circle:\n",
    "    def __init__(self, radius):\n",
    "        self.radius = radius\n",
    "    \n",
    "    def calculate_area(self):\n",
    "        return math.pi * self.radius ** 2\n",
    "\n",
    "# Example usage\n",
    "rectangle = Rectangle(5, 3)\n",
    "print(\"Rectangle area:\", rectangle.calculate_area())  # Output: Rectangle area: 15\n",
    "\n",
    "circle = Circle(4)\n",
    "print(\"Circle area:\", circle.calculate_area())  # Output: Circle area: 50.26548245743669\n"
   ]
  },
  {
   "cell_type": "markdown",
   "metadata": {},
   "source": [
    "Suppose you're designing a program to manage employees in a company. Design classes for Employee and Manager. The Employee class should have attributes for name, ID, and salary, along with a method to display the employee's information. The Manager class should inherit from Employee and additionally have an attribute for the department they manage.\n",
    "\n"
   ]
  },
  {
   "cell_type": "code",
   "execution_count": 13,
   "metadata": {},
   "outputs": [
    {
     "name": "stdout",
     "output_type": "stream",
     "text": [
      "Employee information:\n",
      "Name: Alice\n",
      "Employee ID: E001\n",
      "Salary: $50000\n",
      "\n",
      "Manager information:\n",
      "Department: Engineering\n"
     ]
    }
   ],
   "source": [
    "class Employee:\n",
    "    def __init__(self, name, emp_id, salary):\n",
    "        self.name = name\n",
    "        self.emp_id = emp_id\n",
    "        self.salary = salary\n",
    "    \n",
    "    def display_info(self):\n",
    "        print(f\"Name: {self.name}\")\n",
    "        print(f\"Employee ID: {self.emp_id}\")\n",
    "        print(f\"Salary: ${self.salary}\")\n",
    "\n",
    "\n",
    "class Manager(Employee):\n",
    "    def __init__(self, name, emp_id, salary, department):\n",
    "        #super().__init__(name, emp_id, salary)\n",
    "        self.department = department\n",
    "    \n",
    "    def display_info(self):\n",
    "        #super().display_info()\n",
    "        print(f\"Department: {self.department}\")\n",
    "\n",
    "\n",
    "# Example usage\n",
    "employee = Employee(\"Alice\", \"E001\", 50000)\n",
    "print(\"Employee information:\")\n",
    "employee.display_info()\n",
    "print()\n",
    "\n",
    "manager = Manager(\"Bob\", \"M001\", 70000, \"Engineering\")\n",
    "print(\"Manager information:\")\n",
    "manager.display_info()\n"
   ]
  },
  {
   "cell_type": "markdown",
   "metadata": {},
   "source": [
    "Suppose you're creating a program to model different shapes. Design classes for Circle and Square.\n",
    "\n",
    "The Circle class should have a method calculate_area to calculate the area of the circle.\n",
    "The Square class should have a method calculate_area to calculate the area of the square."
   ]
  },
  {
   "cell_type": "code",
   "execution_count": 17,
   "metadata": {},
   "outputs": [
    {
     "name": "stdout",
     "output_type": "stream",
     "text": [
      "Area of the circle: 78.53981633974483\n",
      "Area of the square: 16\n"
     ]
    }
   ],
   "source": [
    "import math\n",
    "\n",
    "class Circle:\n",
    "    def __init__(self, radius):\n",
    "        self.radius = radius\n",
    "    \n",
    "    def calculate_area(self):\n",
    "        return math.pi * self.radius ** 2\n",
    "\n",
    "class Square:\n",
    "    def __init__(self, side_length):\n",
    "        self.side_length = side_length\n",
    "    \n",
    "    def calculate_area(self):\n",
    "        return self.side_length ** 2\n",
    "\n",
    "# Example usage\n",
    "circle = Circle(5)\n",
    "print(\"Area of the circle:\", circle.calculate_area())\n",
    "\n",
    "square = Square(4)\n",
    "print(\"Area of the square:\", square.calculate_area())\n"
   ]
  },
  {
   "cell_type": "markdown",
   "metadata": {},
   "source": [
    "Suppose you're creating a program to model different animals. Design classes for Dog and Cat.\n",
    "\n",
    "Both the Dog and Cat classes should have an attribute for the animal's name.\n",
    "Both classes should have a method called make_sound which prints a sound that the respective animal makes.\n",
    "Please implement these classes."
   ]
  },
  {
   "cell_type": "code",
   "execution_count": 18,
   "metadata": {},
   "outputs": [
    {
     "name": "stdout",
     "output_type": "stream",
     "text": [
      "Buddy says 'Woof woof!'\n",
      "Whiskers says 'Meow!'\n"
     ]
    }
   ],
   "source": [
    "class Dog:\n",
    "    def __init__(self, name):\n",
    "        self.name = name\n",
    "    \n",
    "    def make_sound(self):\n",
    "        print(f\"{self.name} says 'Woof woof!'\")\n",
    "\n",
    "class Cat:\n",
    "    def __init__(self, name):\n",
    "        self.name = name\n",
    "    \n",
    "    def make_sound(self):\n",
    "        print(f\"{self.name} says 'Meow!'\")\n",
    "\n",
    "# Example usage\n",
    "dog = Dog(\"Buddy\")\n",
    "dog.make_sound()\n",
    "\n",
    "cat = Cat(\"Whiskers\")\n",
    "cat.make_sound()\n"
   ]
  },
  {
   "cell_type": "markdown",
   "metadata": {},
   "source": [
    "Suppose you're creating a program to simulate a zoo. Design classes for Animal, Bird, and Mammal.\n",
    "\n",
    "The Animal class should have attributes for the animal's name and species.\n",
    "The Bird class should inherit from Animal and have an additional attribute for the bird's wingspan.\n",
    "The Mammal class should inherit from Animal and have an additional attribute for the mammal's weight."
   ]
  },
  {
   "cell_type": "code",
   "execution_count": 19,
   "metadata": {},
   "outputs": [
    {
     "name": "stdout",
     "output_type": "stream",
     "text": [
      "Bird: Eagle\n",
      "Species: Aquila chrysaetos\n",
      "Wingspan: 200\n",
      "\n",
      "Mammal: Elephant\n",
      "Species: Loxodonta africana\n",
      "Weight: 5000\n"
     ]
    }
   ],
   "source": [
    "class Animal:\n",
    "    def __init__(self, name, species):\n",
    "        self.name = name\n",
    "        self.species = species\n",
    "\n",
    "class Bird(Animal):\n",
    "    def __init__(self, name, species, wingspan):\n",
    "        super().__init__(name, species)\n",
    "        self.wingspan = wingspan\n",
    "\n",
    "class Mammal(Animal):\n",
    "    def __init__(self, name, species, weight):\n",
    "        super().__init__(name, species)\n",
    "        self.weight = weight\n",
    "\n",
    "# Example usage\n",
    "bird = Bird(\"Eagle\", \"Aquila chrysaetos\", 200)\n",
    "print(\"Bird:\", bird.name)\n",
    "print(\"Species:\", bird.species)\n",
    "print(\"Wingspan:\", bird.wingspan)\n",
    "\n",
    "print()\n",
    "\n",
    "mammal = Mammal(\"Elephant\", \"Loxodonta africana\", 5000)\n",
    "print(\"Mammal:\", mammal.name)\n",
    "print(\"Species:\", mammal.species)\n",
    "print(\"Weight:\", mammal.weight)\n"
   ]
  }
 ],
 "metadata": {
  "kernelspec": {
   "display_name": "Python 3",
   "language": "python",
   "name": "python3"
  },
  "language_info": {
   "codemirror_mode": {
    "name": "ipython",
    "version": 3
   },
   "file_extension": ".py",
   "mimetype": "text/x-python",
   "name": "python",
   "nbconvert_exporter": "python",
   "pygments_lexer": "ipython3",
   "version": "3.7.6"
  }
 },
 "nbformat": 4,
 "nbformat_minor": 2
}
